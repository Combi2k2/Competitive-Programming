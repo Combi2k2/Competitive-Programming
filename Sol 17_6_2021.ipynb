{
 "cells": [
  {
   "cell_type": "markdown",
   "id": "146c2653",
   "metadata": {},
   "source": [
    "# Circle and its equation"
   ]
  },
  {
   "cell_type": "code",
   "execution_count": 1,
   "id": "25ca4b2b",
   "metadata": {},
   "outputs": [
    {
     "name": "stderr",
     "output_type": "stream",
     "text": [
      "Matplotlib created a temporary config/cache directory at /var/folders/1x/_7zx07hd2l387l3kfcty1yx80000gn/T/matplotlib-88yc7tp1 because the default path (/Users/combi/.matplotlib) is not a writable directory; it is highly recommended to set the MPLCONFIGDIR environment variable to a writable directory, in particular to speed up the import of Matplotlib and to better support multiprocessing.\n"
     ]
    }
   ],
   "source": [
    "import matplotlib.pyplot as plt\n",
    "import numpy as np"
   ]
  },
  {
   "cell_type": "markdown",
   "id": "04a3e32b",
   "metadata": {},
   "source": [
    "# A."
   ]
  },
  {
   "cell_type": "code",
   "execution_count": 10,
   "id": "2cc45914",
   "metadata": {},
   "outputs": [
    {
     "data": {
      "text/plain": [
       "[<matplotlib.lines.Line2D at 0x7fdc30f5c9d0>]"
      ]
     },
     "execution_count": 10,
     "metadata": {},
     "output_type": "execute_result"
    },
    {
     "data": {
      "image/png": "[encoded data removed]",
      "text/plain": [
       "<Figure size 432x288 with 1 Axes>"
      ]
     },
     "metadata": {
      "needs_background": "light"
     },
     "output_type": "display_data"
    }
   ],
   "source": [
    "n = 5\n",
    "\n",
    "x1 = np.random.randint(10, size = n)\n",
    "y1 = np.random.randint(10, size = n)\n",
    "\n",
    "#x2 = np.random.randint(20, size = n)\n",
    "#y2 = np.random.randint(20, size = n)\n",
    "\n",
    "#x3 = np.random.randint(20, size = n)\n",
    "#y3 = np.random.randint(20, size = n)\n",
    "\n",
    "plt.plot(x1, y1, 'ro')\n",
    "#plt.plot(x2, y2, 'bo')\n",
    "#plt.plot(x3, y3, 'go');"
   ]
  },
  {
   "cell_type": "code",
   "execution_count": 16,
   "id": "3b44f1ee",
   "metadata": {},
   "outputs": [
    {
     "data": {
      "image/png": "[encoded data removed]",
      "text/plain": [
       "<Figure size 432x288 with 1 Axes>"
      ]
     },
     "metadata": {
      "needs_background": "light"
     },
     "output_type": "display_data"
    }
   ],
   "source": [
    "pts = [[] for i in range(20)]\n",
    "\n",
    "for i in range(n):\n",
    "    pts[x1[i]].append(y1[i])\n",
    "\n",
    "ansX = [10, 10, 0, 0]\n",
    "ansY = [-1, -2, -2, -1]\n",
    "\n",
    "\n",
    "for i in range(10):\n",
    "    if (len(pts[i])):\n",
    "        y = pts[i][0]\n",
    "        \n",
    "        ansX.append(i - 0.3)\n",
    "        ansY.append(-1)\n",
    "        \n",
    "        ansX.append(i - 0.3)\n",
    "        ansY.append(21)\n",
    "        \n",
    "        ansX.append(i - 0.2)\n",
    "        ansY.append(21)\n",
    "        \n",
    "        ansX.append(i - 0.2)\n",
    "        ansY.append(y + 0.2)\n",
    "        \n",
    "        ansX.append(i + 0.2)\n",
    "        ansY.append(y + 0.2)\n",
    "        \n",
    "        ansX.append(i + 0.2)\n",
    "        ansY.append(y - 0.2)\n",
    "        \n",
    "        ansX.append(i - 0.2)\n",
    "        ansY.append(y - 0.2)\n",
    "        \n",
    "        ansX.append(i - 0.2)\n",
    "        ansY.append(-1)\n",
    "\n",
    "ansX.append(10)\n",
    "ansY.append(-1)\n",
    "\n",
    "plt.plot(ansX, ansY, 'black')\n",
    "plt.plot(x1, y1, 'ro');"
   ]
  },
  {
   "cell_type": "markdown",
   "id": "1e00c03b",
   "metadata": {},
   "source": [
    "# B."
   ]
  },
  {
   "cell_type": "markdown",
   "id": "6bb91f00",
   "metadata": {},
   "source": [
    "Công thức tính diện tích: $$S = \\frac{(x_1 y_2 - x_2 y_1) + (x_2 y_3 - x_3 y_2) + ... + (x_n y_1 - x_1 y_n)}{2}.$$"
   ]
  },
  {
   "cell_type": "markdown",
   "id": "786a9b4b",
   "metadata": {},
   "source": [
    "$$(x_i y_{i + 1} - x_{i + 1} y_i)$$"
   ]
  },
  {
   "cell_type": "markdown",
   "id": "c69dddd3",
   "metadata": {},
   "source": [
    "Có đường cắt giữa điểm $(x_l, y_l), (x_r, y_r)$"
   ]
  },
  {
   "cell_type": "markdown",
   "id": "b0ce5391",
   "metadata": {},
   "source": [
    "Tính tổng các giá trị $(x_i y_{i + 1} - x_{i + 1} y_i)$ với i trong đoạn $[l, r - 1]$"
   ]
  },
  {
   "cell_type": "markdown",
   "id": "846e079b",
   "metadata": {},
   "source": [
    "Sử dụng tổng cộng "
   ]
  },
  {
   "cell_type": "markdown",
   "id": "96c306d8",
   "metadata": {},
   "source": [
    "Cộng kết quả với giá trị $x_r y_l - x_l * y_r$"
   ]
  },
  {
   "cell_type": "markdown",
   "id": "a8a820d6",
   "metadata": {},
   "source": [
    "# D."
   ]
  },
  {
   "cell_type": "markdown",
   "id": "81b3eb9c",
   "metadata": {},
   "source": [
    "Nhận xét:\n",
    "* Coi mỗi hình tròn tâm (x, y) bán kính r là 1 đoạn (x - r, x + r)\n",
    "* Tại mỗi thời điểm, số đoạn đè lên vị trí x bé (có thể for trâu kiểm tra)"
   ]
  },
  {
   "cell_type": "markdown",
   "id": "1f0806b2",
   "metadata": {},
   "source": [
    "- B1: nén số (các giá trị x quan trọng < 2e5)\n",
    "- B2: truy vấn update [l, r] xuất hiện: mỗi nút của IT lưu 1 set các đoạn bao phủ tất cả các điểm quan trọng mà nút đó quản lý\n",
    "\n",
    "- B3: truy vấn hỏi: đi dần xuống nút đại diện cho vị trí này, tại mỗi nút tổ tiên (có Set lưu các đoạn đang đè lên điểm này)\n",
    "\n",
    "Check xem từng hình tròn được lưu trong Set của các nút tổ tiên có chứa điểm hiện tại hay không."
   ]
  },
  {
   "cell_type": "markdown",
   "id": "38439f88",
   "metadata": {},
   "source": [
    "- Update: $O(log(n)$ * $log($Số bé))\n",
    "- Truy vấn: $O(log(n)$ * (Số hình tròn đè lên điểm hiện tại - Là số bé))"
   ]
  },
  {
   "cell_type": "markdown",
   "id": "28abf051",
   "metadata": {},
   "source": [
    "# C."
   ]
  },
  {
   "cell_type": "markdown",
   "id": "650444a0",
   "metadata": {},
   "source": [
    "Nhận xét:\n",
    "- Nếu mỗi lần đều chia nửa hình chữ nhật: Sẽ trở thành các hình 1x1 sau $log(H) + log(W)$ bước\n",
    "-> Complexity không vượt quá $log(H) + log(W)$"
   ]
  },
  {
   "cell_type": "markdown",
   "id": "36ce9e51",
   "metadata": {},
   "source": [
    "Lưu: $f(point, column, rowL, rowR)$: 1 hcn có ô trên cùng bên trái là (rowL, column) và dưới cùng bên trái là (rowR, column) ô phải nhất xa tới đâu"
   ]
  },
  {
   "cell_type": "markdown",
   "id": "aa68d4f6",
   "metadata": {},
   "source": [
    "Giả sử $f(p, cL, xL, xR) = cR$\n",
    "\n",
    "* $complexity(xL, cL, xR, cR) <= p$\n",
    "* $complexity(xL, cL, xR, cR + 1) > p$ hoặc $cR = W$"
   ]
  },
  {
   "cell_type": "markdown",
   "id": "ed974904",
   "metadata": {},
   "source": [
    "Đáp án: $i$ nhỏ nhất thoả mãn $f(i, 0, 0, H - 1) = W - 1$"
   ]
  },
  {
   "cell_type": "markdown",
   "id": "cf5e4e86",
   "metadata": {},
   "source": [
    "Code: https://atcoder.jp/contests/agc033/submissions/10809645"
   ]
  },
  {
   "cell_type": "code",
   "execution_count": null,
   "id": "00f5cd23",
   "metadata": {},
   "outputs": [],
   "source": []
  }
 ],
 "metadata": {
  "kernelspec": {
   "display_name": "Python 3",
   "language": "python",
   "name": "python3"
  },
  "language_info": {
   "codemirror_mode": {
    "name": "ipython",
    "version": 3
   },
   "file_extension": ".py",
   "mimetype": "text/x-python",
   "name": "python",
   "nbconvert_exporter": "python",
   "pygments_lexer": "ipython3",
   "version": "3.9.4"
  }
 },
 "nbformat": 4,
 "nbformat_minor": 5
}
