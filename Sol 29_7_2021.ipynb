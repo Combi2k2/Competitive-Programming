{
 "cells": [
  {
   "cell_type": "markdown",
   "id": "cb64517f",
   "metadata": {},
   "source": [
    "# A."
   ]
  },
  {
   "cell_type": "markdown",
   "id": "0a01bf5e",
   "metadata": {},
   "source": [
    "KEYWORD: Project Selection Problem (ai không biết thì google)\n",
    "\n",
    "- Có n project.\n",
    "- 1 vài project thì đẻ ra profit. (Value > 0)\n",
    "- 1 vài project thì sẽ làm lỗ vốn. (Value < 0)\n",
    "- Có 1 vài điều kiện: nếu muốn thực hiện 1 project a thì phải thực hiện project b.\n",
    "\n",
    "Cách làm:\n",
    "- Xây luồng:\n",
    "    * Nếu project x có VALUE < 0 thì nối x với sink, capacity = -VALUE\n",
    "    * Nếu project x có VALUE > 0 thì nối x với source, capacity = VALUE\n",
    "    * Với điều kiện (làm a thì phải làm b), nối a với b, capacity = inf\n",
    "\n",
    "- Tổng VALUE của các project (có VALUE > 0) - MaxFlow"
   ]
  },
  {
   "cell_type": "markdown",
   "id": "1d11f10b",
   "metadata": {},
   "source": [
    "# B."
   ]
  },
  {
   "cell_type": "markdown",
   "id": "61e014f2",
   "metadata": {},
   "source": [
    "Nhận xét:\n",
    "- $i_k + j_k$ lẻ: $i_k$ và $j_k$ khác tính chẵn lẻ\n",
    "- Chia n số này thành 2 phần sao cho không có 2 số nào thuộc cùng 1 phần là good pair\n",
    "    * Phần thứ nhất là các số có index chẵn\n",
    "    * Phàn thứ hai là các số có index lẻ\n",
    "- v tối ưu trong mỗi operator là số nguyên tố\n",
    "\n",
    "Cách xây luồng:\n",
    "- Nút sink, source (hiển nhiên)\n",
    "- Nút source sẽ nối với nút đại diện cho $(i, p)$ ($i$ là index lẻ, $p$ là thừa số nguyên tố của $a_i$) với capacity = số mũ của p trong phân tichs $a_i$ ra thừa số nguyên tố.\n",
    "\n",
    "- Nút sink được nối với nút đại diện cho $(i, p)$ ($i$ là index chẵn)\n",
    "- Cặp $(i, p)$ nối với $(j, p)$ trong đấy $(i, j)$ là 1 good pair, capacity = inf.\n",
    "\n",
    "Số operators có thể thực hiện được là MaxFlow."
   ]
  },
  {
   "cell_type": "markdown",
   "id": "f2b88246",
   "metadata": {},
   "source": [
    "# C."
   ]
  },
  {
   "cell_type": "markdown",
   "id": "3c9df9fe",
   "metadata": {},
   "source": [
    "Nhận xét:\n",
    "- Nếu mình tăng cả n số lên 1 đơn vị.\n",
    "    * Cả permutation shift lên 1 đơn vị\n",
    "    * Vị trí mình cần tìm không đổi\n",
    "    * Câu trả lời cho các truy vấn của mình giống như khi mình chưa thực hiện thao tác nào.\n",
    "\n",
    "được hỏi 50.n câu:\n",
    "- được phép tăng cả permutation lên tất cả là 50 lần.\n",
    "\n",
    "Xét 3 chỉ số i, j, k trong đấy $p_i + 1 = p_j = p_k - 1$\n",
    "- Nếu chỉ số j được hỏi trước chỉ số i và k.\n",
    "- Khi hỏi só j thì số giá trị khác nhau sẽ giảm đi 1 (số n không nằm ở chỉ số đấy)\n",
    "\n",
    "Giả sử mình sẽ gọi n chỉ số này theo thứ tự random (50 lần)\n",
    "\n",
    "Xác suất j đứng trước cả i và k là 1/3.\n",
    "Xác suất mà j không đứng trước cả i và k là 2/3. (xác suất không confirm được là j không phải vị trí mình cần tìm)\n",
    "\n",
    "Với 1 chỉ số j riêng lẻ, sau 50 lần gọi, xác suất mà không confirm được j không phải vị trí mình cần tìm là:\n",
    "\n",
    "$$(\\frac{2}{3})^{50} < 10^{-9}$$\n",
    "\n",
    "Mà n chỉ số này independent, xác suất để confirm cả n vị trí này cái nào không phải vị trí mình cần tìm < $10^{-9} \\times n < 10^{-6}$"
   ]
  },
  {
   "cell_type": "markdown",
   "id": "fb045b4d",
   "metadata": {},
   "source": [
    "# D."
   ]
  },
  {
   "cell_type": "markdown",
   "id": "9b695bdb",
   "metadata": {},
   "source": [
    "Chọn m sao cho $a_i \\neq a_j (mod m)$ \n",
    "\n",
    "m không là ước của $a_i - a_j$ với $1 \\leq i, j \\leq n$"
   ]
  },
  {
   "cell_type": "markdown",
   "id": "29e45bc5",
   "metadata": {},
   "source": [
    "$1 \\leq a_i \\leq 2000000$\n",
    "\n",
    "$-2000000 < a_i - a_j < 2000000$"
   ]
  },
  {
   "cell_type": "markdown",
   "id": "8c48ee6c",
   "metadata": {},
   "source": [
    "Với mỗi giá trị x trong khoảng từ (-2000000, 2000000), đếm xem có bao nhiêu cặp i, j mà $a_i - a_j = x$"
   ]
  },
  {
   "cell_type": "markdown",
   "id": "7acd84c5",
   "metadata": {},
   "source": [
    "## FFT"
   ]
  },
  {
   "cell_type": "markdown",
   "id": "bbd4b8fa",
   "metadata": {},
   "source": [
    "Đa thức C1: $C1_i$ là số các số trong dãy a mà có giá trị bằng i\n",
    "\n",
    "Đa thức C2: $C2_i$ là số các số trong dãy a mà 2000000 - a_j = i\n",
    "\n",
    "Chỉ số thứ x của đa thức C1 * C2 là số cặp i, j mà $a_i - a_j + 2000000 = x$"
   ]
  },
  {
   "cell_type": "markdown",
   "id": "d68123a1",
   "metadata": {},
   "source": [
    "Nếu chỉ"
   ]
  }
 ],
 "metadata": {
  "kernelspec": {
   "display_name": "Python 3",
   "language": "python",
   "name": "python3"
  },
  "language_info": {
   "codemirror_mode": {
    "name": "ipython",
    "version": 3
   },
   "file_extension": ".py",
   "mimetype": "text/x-python",
   "name": "python",
   "nbconvert_exporter": "python",
   "pygments_lexer": "ipython3",
   "version": "3.9.4"
  }
 },
 "nbformat": 4,
 "nbformat_minor": 5
}
