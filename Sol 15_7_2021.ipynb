{
 "cells": [
  {
   "cell_type": "markdown",
   "id": "2f9a852f",
   "metadata": {},
   "source": [
    "# A. https://codeforces.com/contest/1140/problem/F"
   ]
  },
  {
   "cell_type": "markdown",
   "id": "64cf0236",
   "metadata": {},
   "source": [
    "Cho Set S. E(S) được định nghĩa là:"
   ]
  },
  {
   "cell_type": "markdown",
   "id": "93ec971f",
   "metadata": {},
   "source": [
    "- R := S\n",
    "- Nếu tổn tại 3 điểm $(x_1, y_1), (x_1, y_2), (x_2, y_1) \\in R$ thì thêm điểm $(x_2, y_2)$ vào R\n",
    "\n",
    "$E(S) = |R|$"
   ]
  },
  {
   "cell_type": "markdown",
   "id": "453074ef",
   "metadata": {},
   "source": [
    "### Các thao tác:\n",
    "- Thêm điểm $(x, y)$\n",
    "- Xoá điểm $(x, y)$\n",
    "\n",
    "Sau mỗi thao tác, in ra $E(S)$"
   ]
  },
  {
   "cell_type": "markdown",
   "id": "b1c87a22",
   "metadata": {},
   "source": [
    "### Cách tính E(S)"
   ]
  },
  {
   "cell_type": "markdown",
   "id": "59d9bcba",
   "metadata": {},
   "source": [
    "2 điểm được nối với nhau nếu:\n",
    "- toạ độ x bằng nhau\n",
    "- toạ độ y bằng nhau\n",
    "\n",
    "1 thành phần liên thông sẽ contribute vào đáp án 1 lượng là: $SX \\times SY$\n",
    "- SX: số toạ độ x phân biệt của các điểm trong TPLT\n",
    "- SY: số toạ độ y phân biệt của các điểm trong TPLT\n",
    "\n"
   ]
  },
  {
   "cell_type": "markdown",
   "id": "08c09109",
   "metadata": {},
   "source": [
    "### Giả sử chỉ thêm điểm:\n",
    "- Join hàng x và cột y với nhau.\n",
    "- Lưu số toạ độ x phân biệt và số toạ độ y phân biệt (Tự nháp)\n",
    "\n"
   ]
  },
  {
   "cell_type": "markdown",
   "id": "aaa9a62b",
   "metadata": {},
   "source": [
    "Giả sử điểm P được thêm vào S trong thao tác thứ l, và xoá khỏi S trong thao tác thứ r:\n",
    "\n",
    "- điểm P tồn tại trong S trong các thao tác từ [l, r - 1]\n",
    "- dựng 1 interval tree:\n",
    "    * thêm điểm P: thao tác dsu $P_x$ và $P_y$ trong 1 đoạn nào đó."
   ]
  },
  {
   "cell_type": "markdown",
   "id": "5aad7b9a",
   "metadata": {},
   "source": [
    "### DFS trên cây phân đoạn biểu thị cho các truy vấn:\n",
    "- Đi xuống 1 nút:\n",
    "    * DSU các cặp điểm cần DSU trong đoạn được quản lý bởi điểm này\n",
    "- Nếu nút này là nút lá:\n",
    "    * In ra đáp án.\n",
    "- Sau khi DFS hết toàn bộ cây con:\n",
    "    * Gán lại ans và 1 vài biến trở lại giá trị cũ"
   ]
  },
  {
   "cell_type": "markdown",
   "id": "d3979040",
   "metadata": {},
   "source": [
    "https://codeforces.com/contest/1140/submission/122645943"
   ]
  },
  {
   "cell_type": "code",
   "execution_count": null,
   "id": "7c046d14",
   "metadata": {},
   "outputs": [],
   "source": [
    "import matplotlib.pyplot as plt\n",
    "\n"
   ]
  },
  {
   "cell_type": "markdown",
   "id": "8c781ede",
   "metadata": {},
   "source": [
    "# B. https://codeforces.com/contest/464/problem/E"
   ]
  },
  {
   "cell_type": "markdown",
   "id": "b570a959",
   "metadata": {},
   "source": [
    "Tóm tắt đề bài:\n",
    "- Tìm đường đi ngắn nhất từ S tới T\n",
    "- Trọng số của cạnh là $2^w$"
   ]
  },
  {
   "cell_type": "markdown",
   "id": "a80ff4a0",
   "metadata": {},
   "source": [
    "### Nhận xét:\n",
    "\n",
    "Trong quá trình Dijkstra:\n",
    "- Khi đi từ đỉnh u tới đỉnh v, số bit trong biểu diễn nhị phân của khoảng cách từ S thay đổi ít:\n",
    "    * Nếu bit thứ w trong khoảng cách của u tắt: chỉ có 1 bit thay đổi\n",
    "    * Nếu bit thứ w trong khoảng cách của u bật: chỉ có các bit đã được thêm thì mới bị xoá\n",
    "    \n",
    "\n",
    "w, w + 1, w + 2,..., k bật: -> sau khi thay đổi:\n",
    "\n",
    "w, w + 1, w + 2,..., k tắt,\n",
    "\n",
    "k + 1 bật.\n"
   ]
  },
  {
   "cell_type": "markdown",
   "id": "95a0777d",
   "metadata": {},
   "source": [
    "### Dựa vào nhận xét, ý tưởng:\n",
    "\n",
    "- Với mỗi đỉnh u, dùng 1 CTDL để biểu diễn nhị phân khoảng cách từ S tới u.\n",
    "- Dùng đỉnh u để update đỉnh v, trọng số cạnh là w:\n",
    "    * Giả sử các bit thay đổi là: $w, ..., k$\n",
    "    * Tạo 1 bản sao của CTDL biễu diễn khoảng cách của u cho v, và thay đổi các bit $w, .., k$\n",
    "\n",
    "### Cách tạo bản sao:\n",
    "- Persistent Data Structure.\n",
    "- Tạo bản sao của IT:\n",
    "    * Nút nào bị thay đổi thì: Tạo 1 clone của nút đó, tập child giữ nguyên, chỉ thay đổi INFO của nút clone.\n",
    "\n",
    "### So sánh giá trị biển diễn bởi 2 cây IT:\n",
    "- Tìm bit lớn nhất mà khác nhau trong cây IT:\n",
    "- Sử dụng kĩ thuật như Suffix Array (Dùng Hash)"
   ]
  },
  {
   "cell_type": "markdown",
   "id": "38737630",
   "metadata": {},
   "source": [
    "https://codeforces.com/contest/464/submission/122550062"
   ]
  },
  {
   "cell_type": "code",
   "execution_count": null,
   "id": "10f6ab15",
   "metadata": {},
   "outputs": [],
   "source": []
  }
 ],
 "metadata": {
  "kernelspec": {
   "display_name": "Python 3",
   "language": "python",
   "name": "python3"
  },
  "language_info": {
   "codemirror_mode": {
    "name": "ipython",
    "version": 3
   },
   "file_extension": ".py",
   "mimetype": "text/x-python",
   "name": "python",
   "nbconvert_exporter": "python",
   "pygments_lexer": "ipython3",
   "version": "3.9.4"
  }
 },
 "nbformat": 4,
 "nbformat_minor": 5
}
