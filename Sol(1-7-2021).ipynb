{
 "cells": [
  {
   "cell_type": "markdown",
   "id": "0250ecb6",
   "metadata": {},
   "source": [
    "# A. https://atcoder.jp/contests/agc030/tasks/agc030_d?lang=en"
   ]
  },
  {
   "cell_type": "markdown",
   "id": "33548b65",
   "metadata": {},
   "source": [
    "Nhận xét:\n",
    "- Thay vì tính trực tiếp đáp án, ta tính $E(inversion(A))$ là bao nhiêu.\n",
    "\n",
    "$$E(inversion(A)) = \\sum_{1 \\leq i < j \\leq n}{E(A_i > A_j)} \\times 1$$"
   ]
  },
  {
   "cell_type": "markdown",
   "id": "9050113c",
   "metadata": {},
   "source": [
    "$dp[i][j][t]:$ là xác suất cặp $(i, j)$ là nghịch thế sau t phép biến đổi"
   ]
  },
  {
   "cell_type": "markdown",
   "id": "574a04da",
   "metadata": {},
   "source": [
    "Nhận xét:\n",
    "- Phép chuyển trạng thái từ $dp[i][j][t]$ lên $dp[i][j][t + 1]$\n",
    "- Sau phép biến đổi thứ t: đổi chỗ $A_{x_t}$ và $A_{y_t}$ hoặc không làm gì:\n",
    "- Những trạng thái thay đổi là:\n",
    "    * $i = x_t$ hoặc $y_t$\n",
    "    * $j = x_t$ hoặc $y_t$"
   ]
  },
  {
   "cell_type": "markdown",
   "id": "92b67dd2",
   "metadata": {},
   "source": [
    "Như vậy thì: Số trạng thái có giá trị dp thay đổi là O(n)\n",
    "\n",
    "- Có thể bỏ đi chiều t\n",
    "- Mỗi lần cập nhật trạng thái thì chỉ cần cập nhật cho O(n) trạng thái khác và giữ nguyên mảng dp với các trạng thái còn lại"
   ]
  },
  {
   "cell_type": "markdown",
   "id": "9e9d2ab4",
   "metadata": {},
   "source": [
    "https://atcoder.jp/contests/agc030/submissions/11448849"
   ]
  },
  {
   "cell_type": "markdown",
   "id": "11013400",
   "metadata": {},
   "source": [
    "# B. https://codeforces.com/gym/102586/problem/E"
   ]
  },
  {
   "cell_type": "markdown",
   "id": "cd4ceca2",
   "metadata": {},
   "source": [
    "Giả sử số lần $A_i$ xuất hiện là $C_i$. Như vậy, số hoán vị có thể được tạo ra là:"
   ]
  },
  {
   "cell_type": "markdown",
   "id": "b9ecd6fc",
   "metadata": {},
   "source": [
    "- $C_1 + C_2 + ... + C_K = N$\n",
    "- Số hoán vị với dãy frequency này là:\n",
    "$$C_{N}^{C_1} \\times C_{N - C_1}^{C_2} \\times ... \\times C_{N - C_1 - C_2 - ... - C_{K-1}}^{C_K}$$"
   ]
  },
  {
   "cell_type": "markdown",
   "id": "53266313",
   "metadata": {},
   "source": [
    "### Định lý Lucas:\n",
    "\n",
    "- p là số nguyên tố\n",
    "- $m = m_0 + m_1 \\times p + m_2 \\times p^2 + ... $\n",
    "- $n = n_0 + n_1 \\times p + n_2 \\times p^2 + ... $\n",
    "\n",
    "$$C_n^m mod p = C_{n_0}^{m_0} \\times C_{n_1}^{m_1} \\times ... mod p$$"
   ]
  },
  {
   "cell_type": "markdown",
   "id": "b0cbd101",
   "metadata": {},
   "source": [
    "- $C_1$ là submask của $N$\n",
    "- $C_2$ là submask của $N - C_1$\n",
    "- ...\n",
    "\n",
    "$C_1, C_2, ..., C_K$ là submask của N và không có bit chung\n",
    "\n",
    "Mọi bit của N đều phải được chọn vào freq của ít nhất 1 trong các giá trị $A_1,...,A_k$"
   ]
  },
  {
   "cell_type": "markdown",
   "id": "e28d0a26",
   "metadata": {},
   "source": [
    "- Xét các bit theo thứ tự từ bé đến lớn: (từ 0 tới 60)\n",
    "- Nếu bit thứ i được bật trong N, xét mọi giá trị $A_j$ có thể đi kèm với $2^i$ sao cho tổng các giá trị $2^i \\times A_j$ có i chữ số đầu trong biểu diễn nhị phân giống với S"
   ]
  },
  {
   "cell_type": "markdown",
   "id": "e6160aa2",
   "metadata": {},
   "source": [
    "$dp[i][v]$ là sau khi xét i chữ số đầu, thì phần prefix có giá trị là v.\n",
    "\n",
    "Chuyển từ trạng thái $dp[i - 1]$ lên $dp[i]$:\n",
    "\n",
    "- Nếu bit thứ i trong N tắt: $dp[i][[\\frac{v}{2}]] += dp[i - 1][v]$\n",
    "- Nếu bit thứ i trong N bật: Giả sử giá trị đi với bit thứ i là $A_j$\n",
    "\n",
    "$$dp[i][[\\frac{v}{2}] + A_j] += dp[i][v]$$"
   ]
  },
  {
   "cell_type": "markdown",
   "id": "1447f816",
   "metadata": {},
   "source": [
    "Điều kiện: giá trị v mới phải có chữ số tận cùng trong biểu diễn nhị phân giống bit thứ i của S."
   ]
  },
  {
   "cell_type": "markdown",
   "id": "79314d8d",
   "metadata": {},
   "source": [
    "https://pastebin.com/KiJ4gCM9"
   ]
  },
  {
   "cell_type": "markdown",
   "id": "7f59106b",
   "metadata": {},
   "source": [
    "# C. https://codeforces.com/gym/102586/problem/K"
   ]
  },
  {
   "cell_type": "markdown",
   "id": "449cadb6",
   "metadata": {},
   "source": [
    "Nhận xét: Chiến thuật tối ưu là:\n",
    "- A: Chọn con quái có HP nhỏ \n",
    "- B: Nếu số quái có HP = 1 nhỏ hơn k, chọn con quái có máu nhỏ nhất mà HP > 1 (ngược lại chọn 1 trong các con quái có HP = 1)"
   ]
  },
  {
   "cell_type": "markdown",
   "id": "73317ef7",
   "metadata": {},
   "source": [
    "Đặt $freq[x]$ là số quái có HP là x\n",
    "\n",
    "Nhận xét:\n",
    "- Nếu $freq[1] \\geq K$ thì đáp án là $K$\n",
    "- Nếu $freq[1] < K$ thì ta sẽ giải bài toán với $K' = K - freq[1]$ và $freq[1]' = 0$, sau đó cộng đáp án tính được với $freq[1]$"
   ]
  },
  {
   "cell_type": "markdown",
   "id": "2d97b5a3",
   "metadata": {},
   "source": [
    "Giả sử con quái có HP là x:\n",
    "- Nếu $freq[x] = 1$ thì con quái này sẽ biến mất sau $x$ lượt\n",
    "- Nếu $freq[x] > 1$ thì các lượt sẽ diễn ra như sau:\n",
    "    * 1 con quái có HP x được tăng 1 HP\n",
    "    * 1 con quái có HP x bị giảm 2HP\n",
    "    * 2 người thực hiện các lượt trên con quái có HP x-2 và làm nó biến mất\n",
    "    * Thực hiện lại các bước trên với $freq[x] - 2$ con quái có HP x còn lại\n",
    "    * Nếu còn đúng 1 con quái có HP x thì nó sẽ được thao tác như trường hợp 1 và biến mất."
   ]
  },
  {
   "cell_type": "markdown",
   "id": "ba72ce3f",
   "metadata": {},
   "source": [
    "Nói cách khác, sau một số lượt thì sẽ không còn con quái nào có HP $\\leq x$ và số quái có HP = $x + 1$ tăng thêm $[\\frac{freq[x]}{2}]$"
   ]
  },
  {
   "cell_type": "markdown",
   "id": "10630654",
   "metadata": {},
   "source": [
    "Sử dụng nhận xét trên, ta chứng minh quy nạp được số quái mà ban đầu có HP $< x$ mà sau các lượt sẽ có HP $= x$ là:\n",
    "\n",
    "\n",
    "$$h(x) = \\left[\\frac{freq[2] \\times 2^2 + freq[3] \\times 2^3 + ... + freq[x - 1] \\times 2^{x - 1}}{2^x}\\right]$$"
   ]
  },
  {
   "cell_type": "markdown",
   "id": "3c304c2b",
   "metadata": {},
   "source": [
    "Vậy số quái sẽ biến mất khi con quái thấp máu nhất có HP $= x$ là:\n",
    "\n",
    "$$g(x) = \\sum_{i = 2}^{x - 1}{freq[i]} - h(x)$$"
   ]
  },
  {
   "cell_type": "markdown",
   "id": "9e4fd389",
   "metadata": {},
   "source": [
    "Số lượt đã qua khi con quái thấp máu nhất có HP $= x$ là:\n",
    "\n",
    "$$\\sum_{i = 2}^{x - 1}{freq[i] \\times i} - h(x) \\times x$$\n",
    "\n",
    "Lí do là:\n",
    "- Sau 2 lượt thì tổng HP của các con quái bị tác động sẽ giảm đi 1\n",
    "- Vậy nếu chỉ xét các con quái có HP $< x$ thì số lượt phải dùng sẽ là:\n",
    "\n",
    "$$\\sum_{i = 2}^{x - 1}{freq[i] \\times i}$$\n",
    "\n",
    "- Tuy nhiên khi các con quái có HP $= x$ thì sẽ ko bị tác động nữa nên ta phải trừ đi số lượt để mấy con quái có HP tăng lên x \"bay màu\" ($h(x) \\times x$)"
   ]
  },
  {
   "cell_type": "markdown",
   "id": "24277988",
   "metadata": {},
   "source": [
    "Dựa trên 2 công thức phía trên, ta nêu các bước giải bài này như sau:\n",
    "- Tìm giá trị $x$ lớn nhất sao cho $g(x) \\leq K'$, đặt là $r$ (Chặt nhị phân :D)\n",
    "- Cập nhật: $freq[r] += h(r)$\n",
    "- Khởi tạo đáp án:\n",
    "\n",
    "$$ANS = \\sum_{i = 2}^{x - 1}{freq[i] \\times i} - h(x) \\times x\\$$\n",
    "\n",
    "- Cộng đáp án với số lượt để $K' - g(r)$ con quái có HP $= r$ biến mất: (tự nháp đi)\n",
    "- Cộng đáp án với số lượt để loại bỏ những con quái có HP $= 1$ ban đầu.\n"
   ]
  },
  {
   "cell_type": "markdown",
   "id": "8387a259",
   "metadata": {},
   "source": [
    "Vậy phần chủ chốt của bán toán này là tìm được giá trị $h(x)$.\n",
    "\n",
    "Phần này là kĩ thuật implement của mỗi người. Nhưng anh thấy khá khó giải thích nên chỉ để link code thôi nhá :)"
   ]
  },
  {
   "cell_type": "markdown",
   "id": "d8dcb2f5",
   "metadata": {},
   "source": [
    "# D. https://codeforces.com/gym/102538/problem/E"
   ]
  },
  {
   "cell_type": "markdown",
   "id": "4644fdb2",
   "metadata": {},
   "source": [
    "### Cố định trước giá trị x ($1 \\leq x \\leq n$)\n",
    "\n",
    "Đây là bài toán game cơ bản:\n",
    "- Gồm n game con:\n",
    "- Mỗi game con là các piles có $a_i$ viên sỏi\n",
    "\n",
    "Nhận xét:\n",
    "- Số Grundy của pile có n viên là n mod (x + 1):\n",
    "\n",
    "$$Grundy(n,x) = n \\bmod (x+1)$$\n",
    "\n",
    "Vậy giá trị Grundy của trò chơi lớn là:\n",
    "$$[a_1 \\bmod (x + 1)] \\oplus [a_2 \\bmod (x + 1)] \\oplus ... \\oplus [a_n \\bmod (x + 1)]$$"
   ]
  },
  {
   "cell_type": "markdown",
   "id": "c5c543bd",
   "metadata": {},
   "source": [
    "Nhận xét:\n",
    "- Nếu $kx \\leq a < (k+1)x$ thì: $a \\bmod x = a - kx$\n",
    "- Có tất cả $[\\frac{n}{x}]$ đoạn có dạng $[kx, (k + 1)x)$\n",
    "\n",
    "$$[\\frac{n}{1}] + [\\frac{n}{2}] + ... + [\\frac{n}{n}] \\leq n \\times ln(n)$$"
   ]
  },
  {
   "cell_type": "markdown",
   "id": "284a732d",
   "metadata": {},
   "source": [
    "Do đó:\n",
    "- Với mỗi bit i, và mỗi đoạn $[kx,(k + 1)x - 1]$ đếm xem có bao nhiêu số $a_j$ mà bit thứ i của $a_j - kx$ bật:\n",
    "- Các số $v$ có bit thứ i bật phải thoả mãn điều kiện:\n",
    "\n",
    "$$2^{i + 1} \\times t + 2^i \\leq v < 2^{i + 1} \\times (t + 1)$$"
   ]
  },
  {
   "cell_type": "markdown",
   "id": "729a272f",
   "metadata": {},
   "source": [
    "Vậy các số $a_j$ nằm sẽ thoả mãn điều kiện:\n",
    "$$2^{i + 1} \\times t + 2^i \\leq a_j - kx < 2^{i + 1} \\times (t + 1)$$"
   ]
  },
  {
   "cell_type": "markdown",
   "id": "e0290d58",
   "metadata": {},
   "source": [
    "Vậy với mỗi giá trị v từ 1 tới $10^6$, đặt:\n",
    "- $f(v,i)$ là số các số $a_j$ thoả mãn:\n",
    "    * $a_j >= v$\n",
    "    * bit thứ i của $a_j - v$ bật\n",
    "- Cách tính mảng hàm f:\n",
    "    * $f(v,i) = f(v + 2^{i+1}) +$ số các số $a_j$ nằm trong khoảng $[v + 2^i, v + 2^{i + 1})$\n",
    "    * việc tính số các số trong đoạn có thể sử dụng mảng cộng dồn để tính trong $O(1)$"
   ]
  },
  {
   "cell_type": "markdown",
   "id": "9e4ecf79",
   "metadata": {},
   "source": [
    "Vậy số các số $a_j$ trong đoạn $[l, r)$ có bit thứ i bật được tính như sau:\n",
    "- Đặt r' là số lớn nhất có thể thoả mãn:\n",
    "    * $r' \\leq r$\n",
    "    * $r' - l = 2^{i + 1} \\times t$\n",
    "- Vậy kết quả là: $f(l, i) - f(r', i)$ + số các số trong đoạn $[r' + 2^i, r)$"
   ]
  },
  {
   "cell_type": "markdown",
   "id": "09b61948",
   "metadata": {},
   "source": [
    "Như vậy đã tính được số giá trị $a_j$ mà bit thứ i của $a_j \\bmod x$ bật.\n",
    "\n",
    "- Nếu tồn tại bit i sao cho số giá trị tính được là lẻ thì giá trị grundy đối với x xác định trước khác 0, tức Alice thắng.\n",
    "- Nếu không tồn tại bit i như vậy thì Bob thắng"
   ]
  },
  {
   "cell_type": "markdown",
   "id": "5b737986",
   "metadata": {},
   "source": [
    "https://pastebin.com/VgrFKix9"
   ]
  }
 ],
 "metadata": {
  "kernelspec": {
   "display_name": "Python 3",
   "language": "python",
   "name": "python3"
  },
  "language_info": {
   "codemirror_mode": {
    "name": "ipython",
    "version": 3
   },
   "file_extension": ".py",
   "mimetype": "text/x-python",
   "name": "python",
   "nbconvert_exporter": "python",
   "pygments_lexer": "ipython3",
   "version": "3.9.4"
  }
 },
 "nbformat": 4,
 "nbformat_minor": 5
}
