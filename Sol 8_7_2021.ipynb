{
 "cells": [
  {
   "cell_type": "markdown",
   "id": "4e0238a7",
   "metadata": {},
   "source": [
    "# A. https://codeforces.com/problemset/problem/776/D"
   ]
  },
  {
   "cell_type": "markdown",
   "id": "e7b775e0",
   "metadata": {},
   "source": [
    "Giả sử phòng thứ i bị điều khiển bởi công tắc $a_i$ và $b_i$\n",
    "- $x_{a_i} \\bigoplus x_{b_i} = r_i$ với mọi i trong khoảng $[1, n]$"
   ]
  },
  {
   "cell_type": "markdown",
   "id": "c77f88b2",
   "metadata": {},
   "source": [
    "- $r_i = 0$: có cạnh nối giữa node (Toggle $a_i$ và Toggle $b_i$), (Ko toggle $a_i$ và Ko toggle $b_i$)\n",
    "- $r_i = 1$: có cạnh nối giữa node (Toggle $a_i$ và Ko Toggle $b_i$), (Ko toggle $a_i$ và Toggle $b_i$)\n",
    "\n",
    "Có tồn tại chỉ số i nào mà (Toggle i và Ko toggle i) nằm trong cùng tplt hay không\n",
    "- Có: Ko tồn tại cách mở cửa\n",
    "- Ko: Có tồn tại cách mở cửa"
   ]
  },
  {
   "cell_type": "markdown",
   "id": "53c59860",
   "metadata": {},
   "source": [
    "# B. https://codeforces.com/gym/100570/problem/D"
   ]
  },
  {
   "cell_type": "markdown",
   "id": "c9c76440",
   "metadata": {},
   "source": [
    "Nhận xét:\n",
    "- Mỗi hàng hoặc mỗi cột đều chỉ được nhân nhiều nhất 1 lần.\n",
    "- Kí hiệu:\n",
    "    * $r_i$: hàng thứ i được nhân nếu $r_i = 1$, ko được nhân nếu $r_i = 0$\n",
    "    * $c_i$: cột thứ i được nhân nếu $c_i = 1$, ko được nhân nếu $c_i = 0$"
   ]
  },
  {
   "cell_type": "markdown",
   "id": "9a8d4b60",
   "metadata": {},
   "source": [
    "Nhận xét:\n",
    "- Không quan tâm gía trị của $a_{x,y}$ hay $b_{x,y}$ mà chỉ quan tâm 2 số này có giống nhau hay không:\n",
    "    * Nếu có: $r_x \\oplus c_y = 0$\n",
    "    * Không: $r_x \\oplus c_y = 1$\n",
    "   \n",
    "Qua nhận xét trên, bài toán trở thành bài A."
   ]
  },
  {
   "cell_type": "markdown",
   "id": "add2920d",
   "metadata": {},
   "source": [
    "# C. https://codeforces.com/problemset/problem/27/D"
   ]
  },
  {
   "cell_type": "markdown",
   "id": "072039d7",
   "metadata": {},
   "source": [
    "Kí hiệu:\n",
    "- $x_i$: cung thứ i được nối vào bên trong hay ra bên ngoài\n",
    "\n",
    "Với $1 \\leq i < j \\leq m$ thoả mãn:\n",
    "- Cung thứ i và cung thứ j không thể cùng nối bên trong hoặc bên ngoài:\n",
    "    * 2 điểm của cung i là: $a_i$ và $b_i$ ($a_i < b_i$)\n",
    "    * 2 điểm của cung j là: $a_j$ và $b_j$\n",
    "    * $a_i < a_j < b_i$ và {$b_j < a_i$ hoặc $b_j > b_i$)\n",
    "\n",
    "$\\Rightarrow x_i \\oplus x_j = 1$. Lại thành bài A\n",
    "    "
   ]
  },
  {
   "cell_type": "markdown",
   "id": "5df69c29",
   "metadata": {},
   "source": [
    "# D. https://codeforces.com/problemset/problem/641/F"
   ]
  },
  {
   "cell_type": "markdown",
   "id": "5c6bcaf9",
   "metadata": {},
   "source": [
    "Kí hiệu:\n",
    "- a(x, 1): node này được chọn nếu bit thứ x được bật\n",
    "- a(x, 0): node naỳ được chọn nếu bit thứ x ko được bật\n",
    "\n",
    "Lưu ý: a(x, 1) và a(x, 0) không thể được chọn cùng lúc.\n",
    "\n",
    "Giả sử node $a(x,b_1)$ hoặc $a(y,b_2)$ phải được chọn. Nối:\n",
    "- Cạnh 1 chiều từ $a(x,b_1 \\oplus 1)$ với $a(y,b_2)$\n",
    "- Cạnh 1 chiều từ $a(y,b_2 \\oplus 1)$ với $a(x,b_1)$\n",
    "\n"
   ]
  },
  {
   "cell_type": "markdown",
   "id": "86bfb190",
   "metadata": {},
   "source": [
    "Đã có 2 đồ thị TWO-SAT: Đồ thị thoả mãn được khi node $a(x,0)$ và $a(x,1)$ không nằm trong cùng thành phần liên thông mạnh.\n",
    "\n",
    "Nếu cả 2 đồ thị đều đưa ra kết quả là:\n",
    "- Nếu cả 2 công thức không thoả mãn được. In ra \"SIMILAR\"\n",
    "- Nếu 1 trong 2 công thức thoả mãn được. Tìm nghiệm của công thức thoả mãn được và in ra.\n",
    "\n",
    "- Nếu cả 2 công thức thoả mãn được:"
   ]
  },
  {
   "cell_type": "markdown",
   "id": "1d48d108",
   "metadata": {},
   "source": [
    "Lập mảng:\n",
    "- $reach[x][y]$: nếu có đường đi từ node x tới node y thì bằng 1, ko thì bằng 0.\n",
    "- $reach[i][j]$ bằng 1: nếu node i được chọn thì node j cũng phải được chọn\n",
    "\n",
    "Tìm cặp $(i,j)$ thoả mãn:\n",
    "- $i \\neq j$\n",
    "- Trong đồ thị thứ nhất: $reach[i][j] = 0$\n",
    "- Trong đồ thị thứ hai:  $reach[i][j] = 1$"
   ]
  },
  {
   "cell_type": "markdown",
   "id": "37ba5836",
   "metadata": {},
   "source": [
    "Xây dãy bit:\n",
    "- Chọn i\n",
    "- Không chọn j, chọn nút đối lập với j.\n",
    "\n",
    "- Trong đồ thị thứ 1, thì mọi cặp quan hệ vẫn được thoả mãn. F = 1\n",
    "- Trong đồ thị thứ 2, cặp quan hệ (i, j) không được thoả mãn. G = 0"
   ]
  },
  {
   "cell_type": "markdown",
   "id": "e40e87cc",
   "metadata": {},
   "source": [
    "Không tìm được cặp (i,j) như vậy: In \"SIMILAR\""
   ]
  },
  {
   "cell_type": "code",
   "execution_count": null,
   "id": "ae354f6f",
   "metadata": {},
   "outputs": [],
   "source": []
  }
 ],
 "metadata": {
  "kernelspec": {
   "display_name": "Python 3",
   "language": "python",
   "name": "python3"
  },
  "language_info": {
   "codemirror_mode": {
    "name": "ipython",
    "version": 3
   },
   "file_extension": ".py",
   "mimetype": "text/x-python",
   "name": "python",
   "nbconvert_exporter": "python",
   "pygments_lexer": "ipython3",
   "version": "3.9.4"
  }
 },
 "nbformat": 4,
 "nbformat_minor": 5
}
