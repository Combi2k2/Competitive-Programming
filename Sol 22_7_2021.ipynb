{
 "cells": [
  {
   "cell_type": "markdown",
   "id": "61c8429d",
   "metadata": {},
   "source": [
    "# A. https://codeforces.com/gym/101964/problem/D"
   ]
  },
  {
   "cell_type": "code",
   "execution_count": null,
   "id": "717985de",
   "metadata": {},
   "outputs": [],
   "source": [
    "#include<bits/stdc++.h>\n",
    " \n",
    "using namespace std;\n",
    " \n",
    "#define ll  long long\n",
    "#define ld  double\n",
    " \n",
    "#define sz(x)   (int)x.size()\n",
    "#define all(x)  x.begin(),x.end()\n",
    " \n",
    "#define pb  emplace_back\n",
    "#define X   first\n",
    "#define Y   second\n",
    " \n",
    "const int   N   = 2005;\n",
    " \n",
    "typedef pair<int,int>   ii;\n",
    " \n",
    "vector<ii>  g[N];\n",
    " \n",
    "int f[N][N];\n",
    "int s[N];\n",
    " \n",
    "void dfs(int u,int p)   {\n",
    "    s[u] = 1;\n",
    " \n",
    "    for(ii  e : g[u])   if (e.X != p)   {\n",
    "        int v = e.X;\n",
    "        int w = e.Y;\n",
    " \n",
    "        dfs(v,u);\n",
    " \n",
    "        vector<int> cur(s[u] + s[v] + 5,2e9 + 7);\n",
    " \n",
    "        for(int i = 0 ; i <= s[u] ; ++i)\n",
    "        for(int j = 0 ; j <= s[v] ; ++j)    {\n",
    "            int nxt = f[u][i] + f[v][j];\n",
    " \n",
    "            if (j & 1)  nxt += w;\n",
    "            else        nxt += w + w;\n",
    " \n",
    "            if (cur[i + j] > nxt)\n",
    "                cur[i + j] = nxt;\n",
    "            if (cur[i + j + 1] > nxt)\n",
    "                cur[i + j + 1] = nxt;\n",
    "        }\n",
    "        s[u] += s[v];\n",
    " \n",
    "        for(int i = 0 ; i <= s[u] ; ++i)\n",
    "            f[u][i] = cur[i];\n",
    "    }\n",
    "}\n",
    " \n",
    "int main()  {\n",
    "    ios_base::sync_with_stdio(0);\n",
    "    cin.tie(0); cout.tie(0);\n",
    " \n",
    "    int itest;\n",
    "    cin >> itest;\n",
    " \n",
    "    while (itest--) {\n",
    "        int n;  cin >> n;\n",
    "        int m;  cin >> m;\n",
    "        int K;  cin >> K;\n",
    " \n",
    "        memset(f,0,sizeof f);\n",
    " \n",
    "        for(int i = 1 ; i <= n ; ++i)   g[i].clear();\n",
    "        for(int i = 2 ; i <= n ; ++i)   {\n",
    "            int x;  cin >> x;\n",
    "            int y;  cin >> y;\n",
    "            int c;  cin >> c;\n",
    " \n",
    "            g[x].pb(y,c);\n",
    "            g[y].pb(x,c);\n",
    "        }\n",
    "        dfs(1,0);\n",
    " \n",
    "        int ans = 2e9 + 7;\n",
    " \n",
    "        for(int i = 0 ; i <= min(n,m + m) ; i += 2)\n",
    "            if (ans > f[1][i] + i * K / 2)\n",
    "                ans = f[1][i] + i * K / 2;\n",
    " \n",
    "        cout << ans << \"\\n\";\n",
    "    }\n",
    "}"
   ]
  },
  {
   "cell_type": "markdown",
   "id": "4aa9e683",
   "metadata": {},
   "source": [
    "# B. https://codeforces.com/problemset/problem/1101/G"
   ]
  },
  {
   "cell_type": "markdown",
   "id": "5e5172d1",
   "metadata": {},
   "source": [
    "### Khử gauss:\n",
    "\n",
    "### Nhận xét:\n",
    "\n",
    "- 1 đoạn sẽ được biễu diễn bằng 2 chỉ số $[l, r]$\n",
    "- Tổng xor của các số trong đoạn đó là $s_r \\oplus s_{l - 1}$\n",
    "\n",
    "- S là tổng xor cộng dồn"
   ]
  },
  {
   "cell_type": "markdown",
   "id": "aef86bc9",
   "metadata": {},
   "source": [
    "Các đoạn được chọn trong subset là $[l_1, r_1], [l_2, r_2], ..., [l_k, r_k]$\n",
    "\n",
    "Tổng xor của các số trong các đoạn trên là:\n",
    "\n",
    "$$s_{l_1 - 1} \\oplus s_{r_1} \\oplus s_{l_2 - 1} \\oplus s_{r_2} ... \\oplus s_{l_k - 1} \\oplus s_{r_k}$$"
   ]
  },
  {
   "cell_type": "markdown",
   "id": "4c9fcf4e",
   "metadata": {},
   "source": [
    "- Những chỉ số nào bị trùng nhau thì sẽ bị triệt tiêu:\n",
    "- Những chỉ số còn lại sẽ là subset của tập {0, 1, 2, ..., n}\n",
    "\n",
    "Giả sử các đoạn được chia ra bởi các chỉ số $[1, x_1], [x_1 + 1, x_2], ..., [x_{k - 1} + 1, x_k = n]$\n",
    "\n",
    "Nếu tồn tại 1 subset các đoạn có tổng xor bằng 0 thì tồn tại 1 subset của tập ${s_0, s_{x_1}, s_{x_2}, ..., s_{x_k = n}}$ có tổng xor bằng 0"
   ]
  },
  {
   "cell_type": "markdown",
   "id": "b0645ecb",
   "metadata": {},
   "source": [
    "Tìm tập trên bằng xor basis (ứng dụng của <b>KHỬ GAUSS</b>). Đáp án là size của BASIS"
   ]
  },
  {
   "cell_type": "markdown",
   "id": "09a810dc",
   "metadata": {},
   "source": [
    "https://codeforces.com/contest/1101/submission/69466511"
   ]
  },
  {
   "cell_type": "markdown",
   "id": "e9900228",
   "metadata": {},
   "source": [
    "# C. https://codeforces.com/problemset/problem/959/F"
   ]
  },
  {
   "cell_type": "markdown",
   "id": "07501629",
   "metadata": {},
   "source": [
    "Thêm từng số vào basis xem:\n",
    "- Nếu không tồn tại 1 subset các số trong basis có tổng xor bằng số này, thì add vào basis.\n",
    "- Nếu có, thì thôi.\n",
    "\n",
    "- Nếu tồn tại subset trong basis có tổng xor bằng x, thì tập đấy là subset duy nhất có tổng xor bằng x (trong basis)\n",
    "\n",
    "### Cách làm:\n",
    "- Xét l tăng dần, thêm dần các số $a_i$ vào basis.\n",
    "- Xét xem có tồn tại subset của basis sao cho tổng xor bằng x hay không.\n",
    "    * Nếu không, thì đáp án cho truy vấn này là 0.\n",
    "    * Nếu có, thì chọn 1 subset của các số trong l số đầu (nằm ngoài basis) thì tổng của các số này cũng có duy nhất 1 subset trong basis có tổng bằng nó.\n",
    "    * Chọn subset này trong basis để triệt tiêu các số nằm ngoài\n",
    "    * Chọn subset có tổng xor bằng x để tổng xor bằng x.\n",
    "    \n",
    "    $$2^{l - sz(basis)}$$"
   ]
  },
  {
   "cell_type": "markdown",
   "id": "6e6c6447",
   "metadata": {},
   "source": [
    "https://codeforces.com/contest/959/submission/123231403"
   ]
  },
  {
   "cell_type": "markdown",
   "id": "2a8a99f5",
   "metadata": {},
   "source": [
    "# D. https://atcoder.jp/contests/arc101/tasks/arc101_d?lang=en"
   ]
  },
  {
   "cell_type": "markdown",
   "id": "9c9d58fe",
   "metadata": {},
   "source": [
    "### Nhận xét:\n",
    "- Những robot nằm hẳn về bên trái hoặc hẳn về bên phải của các lỗ thì có thể bỏ qua\n",
    "- Với mỗi robot có lỗ ở 2 bên để chui xuống, gọi:\n",
    "    * $a_i$ là khoảng cách từ robot tới lỗ trái gần nhất\n",
    "    * $b_i$ là khoảng cách từ robot tới lỗ phải gần nhất\n",
    "\n",
    "Đặt:\n",
    "- x là số đơn vị dịch về bên trái nhiều nhất (trong tất cả các lần dịch trước đó, ban đầu là 0)\n",
    "- y là số đơn vị dịch về bên phải nhiều nhất (trong tất cả các lần dịch trước đó, ban đầu là 0)\n",
    "\n",
    "x = -min toạ độ trong quá trình dịch chuyển robot\n",
    "y =  max toạ độ trong quá trình dịch chuyển robot\n",
    "\n",
    "Nhận xét:\n",
    "- Từ điểm $(x, y)$ có thể đi tới điểm $(x + 1, y)$ hoặc $(x, y + 1)$"
   ]
  },
  {
   "cell_type": "code",
   "execution_count": 3,
   "id": "3aafae60",
   "metadata": {},
   "outputs": [
    {
     "data": {
      "text/plain": [
       "[<matplotlib.lines.Line2D at 0x7ff5185e2730>]"
      ]
     },
     "execution_count": 3,
     "metadata": {},
     "output_type": "execute_result"
    },
    {
     "data": {
      "image/png": "[encoded data removed]",
      "text/plain": [
       "<Figure size 432x288 with 1 Axes>"
      ]
     },
     "metadata": {
      "needs_background": "light"
     },
     "output_type": "display_data"
    }
   ],
   "source": [
    "import matplotlib.pyplot as plt\n",
    "\n",
    "\n",
    "x = [-3, -1, 0, 5, 7]\n",
    "y = [0 for v in x]\n",
    "\n",
    "plt.plot(x, y, 'ro')\n",
    "plt.plot(x, y)"
   ]
  },
  {
   "cell_type": "markdown",
   "id": "55d7459c",
   "metadata": {},
   "source": [
    "- Nếu $x = a_i$ thì robot sẽ rơi vào lỗ bên trái\n",
    "- Nếu $y = b_i$ thì robot sẽ rơi vào lỗ bên phải\n",
    "\n"
   ]
  },
  {
   "cell_type": "markdown",
   "id": "175a268b",
   "metadata": {},
   "source": [
    "Như vậy, ta sẽ nghĩ tới ý tưởng:"
   ]
  },
  {
   "cell_type": "markdown",
   "id": "0a212693",
   "metadata": {},
   "source": [
    "- Tại vị trí (x, y) trên gốc toạ độ, đếm xem có bao nhiêu trạng thái mà các điểm $(a_i, b_i)$ thoả mãn:\n",
    "    * $a_i \\leq x$\n",
    "    * $b_i \\leq y$\n",
    "    \n",
    "    sẽ gặp trường hợp $x' = a_i$ hay $y' = b_i$ trước ($x', y')$ là toạ độ trong tất cả các bước dịch chuyển trước đó"
   ]
  },
  {
   "cell_type": "markdown",
   "id": "ded88517",
   "metadata": {},
   "source": [
    "Ta chỉ quan tâm các điểm thoả mãn 2 điều kiện trên do những điểm không thoả mãn điểu kiện trên: (tức là 1 trong 2 TH sau)\n",
    "- $a_i > x, b_i \\leq y$\n",
    "- $a_i \\leq x, b_i > y$\n",
    "\n",
    "đều đã xác định được lỗ mà con robot đó sẽ rơi rồi (do TH $x = a_i$ hay $y = b_i$ đã được xác định cái nào xảy ra trước)"
   ]
  },
  {
   "cell_type": "markdown",
   "id": "41ccebda",
   "metadata": {},
   "source": [
    "Hic khó nói quá, chắc để đến đây mọi người cố đọc code để hiểu nốt nhớ:\n",
    "\n",
    "https://atcoder.jp/contests/arc101/submissions/10933073"
   ]
  },
  {
   "cell_type": "code",
   "execution_count": null,
   "id": "5aae19e8",
   "metadata": {},
   "outputs": [],
   "source": []
  }
 ],
 "metadata": {
  "kernelspec": {
   "display_name": "Python 3",
   "language": "python",
   "name": "python3"
  },
  "language_info": {
   "codemirror_mode": {
    "name": "ipython",
    "version": 3
   },
   "file_extension": ".py",
   "mimetype": "text/x-python",
   "name": "python",
   "nbconvert_exporter": "python",
   "pygments_lexer": "ipython3",
   "version": "3.9.4"
  }
 },
 "nbformat": 4,
 "nbformat_minor": 5
}
